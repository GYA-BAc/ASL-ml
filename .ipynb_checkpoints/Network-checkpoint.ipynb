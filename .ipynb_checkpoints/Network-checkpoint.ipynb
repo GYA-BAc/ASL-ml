{
 "cells": [
  {
   "cell_type": "code",
   "execution_count": 1,
   "id": "50aa5c34",
   "metadata": {},
   "outputs": [],
   "source": [
    "import tensorflow as tf\n",
    "from tensorflow.keras.models import Sequential #model\n",
    "from tensorflow.keras.layers import Dense, Dropout, Activation, Flatten, Conv2D, MaxPooling2D "
   ]
  },
  {
   "cell_type": "code",
   "execution_count": 2,
   "id": "daf0f984",
   "metadata": {},
   "outputs": [],
   "source": [
    "import pickle\n",
    "\n",
    "#load data\n",
    "with open(\"X.pickle\", \"rb\") as pickle_in:\n",
    "    X = pickle.load(pickle_in)\n",
    "with open(\"y.pickle\", \"rb\") as pickle_in:\n",
    "    y = pickle.load(pickle_in)\n",
    "\n",
    "# print(X.shape) # (84000, 200, 200, 1)"
   ]
  },
  {
   "cell_type": "code",
   "execution_count": 3,
   "id": "82aec48e",
   "metadata": {},
   "outputs": [],
   "source": [
    "import numpy as np\n",
    "from numpy.lib.format import open_memmap\n",
    "#create memmap\n",
    "Xm = np.memmap('X.memmap', dtype='float64', mode='w+', shape=X.shape)\n",
    "\n",
    "# put data into memmap, normalizing it in the process\n",
    "Xm[:] = X[:]/255.0\n",
    "\n",
    "# load memmap\n",
    "\n",
    "#Xm = np.memmap('X.memmap', dtype='float64', mode='r+', shape=(84000, 200, 200, 1))"
   ]
  },
  {
   "cell_type": "code",
   "execution_count": 4,
   "id": "76a817bb",
   "metadata": {
    "scrolled": true
   },
   "outputs": [
    {
     "name": "stdout",
     "output_type": "stream",
     "text": [
      "Model: \"sequential\"\n",
      "_________________________________________________________________\n",
      " Layer (type)                Output Shape              Param #   \n",
      "=================================================================\n",
      " conv2d (Conv2D)             (None, 198, 198, 32)      320       \n",
      "                                                                 \n",
      " max_pooling2d (MaxPooling2D  (None, 99, 99, 32)       0         \n",
      " )                                                               \n",
      "                                                                 \n",
      " conv2d_1 (Conv2D)           (None, 97, 97, 64)        18496     \n",
      "                                                                 \n",
      " max_pooling2d_1 (MaxPooling  (None, 48, 48, 64)       0         \n",
      " 2D)                                                             \n",
      "                                                                 \n",
      " conv2d_2 (Conv2D)           (None, 46, 46, 64)        36928     \n",
      "                                                                 \n",
      " max_pooling2d_2 (MaxPooling  (None, 23, 23, 64)       0         \n",
      " 2D)                                                             \n",
      "                                                                 \n",
      " flatten (Flatten)           (None, 33856)             0         \n",
      "                                                                 \n",
      " dense (Dense)               (None, 128)               4333696   \n",
      "                                                                 \n",
      " dense_1 (Dense)             (None, 28)                3612      \n",
      "                                                                 \n",
      "=================================================================\n",
      "Total params: 4,393,052\n",
      "Trainable params: 4,393,052\n",
      "Non-trainable params: 0\n",
      "_________________________________________________________________\n"
     ]
    }
   ],
   "source": [
    "model = Sequential() #create model\n",
    "model.add(Conv2D(32, (3,3), activation='relu', input_shape=X.shape[1:]))\n",
    "model.add(MaxPooling2D(pool_size=(2,2)))\n",
    "\n",
    "# do it again                                 (2nd layer)\n",
    "model.add(Conv2D(64, (3,3), activation='relu'))\n",
    "model.add(MaxPooling2D(pool_size=(2,2)))\n",
    "#                                             (3rd layer)\n",
    "model.add(Conv2D(64, (3,3), activation='relu'))\n",
    "model.add(MaxPooling2D(pool_size=(2,2)))\n",
    "\n",
    "#final dense layer                            \n",
    "model.add(Flatten())\n",
    "model.add(Dense(128, activation='relu'))\n",
    "#model.add(Activation(\"relu\"))\n",
    "\n",
    "model.add(Dense(28))\n",
    "\n",
    "model.summary()"
   ]
  },
  {
   "cell_type": "code",
   "execution_count": 5,
   "id": "32cfcc36",
   "metadata": {},
   "outputs": [],
   "source": [
    "from tensorflow.keras.losses import SparseCategoricalCrossentropy"
   ]
  },
  {
   "cell_type": "code",
   "execution_count": 7,
   "id": "bfdc38d8",
   "metadata": {},
   "outputs": [
    {
     "name": "stdout",
     "output_type": "stream",
     "text": [
      "Epoch 1/2\n",
      "750/750 [==============================] - 1701s 2s/step - loss: 1.4054 - accuracy: 0.5809 - val_loss: 0.5467 - val_accuracy: 0.8308\n",
      "Epoch 2/2\n",
      "750/750 [==============================] - 1301s 2s/step - loss: 0.3036 - accuracy: 0.9018 - val_loss: 0.2931 - val_accuracy: 0.9125\n"
     ]
    },
    {
     "data": {
      "text/plain": [
       "<keras.callbacks.History at 0x1be2a5ae710>"
      ]
     },
     "execution_count": 7,
     "metadata": {},
     "output_type": "execute_result"
    }
   ],
   "source": [
    "\n",
    "model.compile(loss=SparseCategoricalCrossentropy(from_logits=True),\n",
    "              optimizer='adam',\n",
    "              metrics=['accuracy']\n",
    "             )\n",
    "\n",
    "model.fit(Xm[:30000], y[:30000], epochs=2, validation_split=0.2)   #limit batch size, scale with size of data"
   ]
  },
  {
   "cell_type": "code",
   "execution_count": 8,
   "id": "d34245f5",
   "metadata": {},
   "outputs": [
    {
     "name": "stdout",
     "output_type": "stream",
     "text": [
      "32/32 [==============================] - 20s 460ms/step - loss: 0.0894 - accuracy: 0.9770\n",
      "val_loss=0.08936435729265213, val_acc=0.9769999980926514\n"
     ]
    }
   ],
   "source": [
    "#calculate validation loss and accuracy\n",
    "val_loss, val_acc = model.evaluate(Xm[:1000], y[:1000])\n",
    "print(f\"{val_loss=}, {val_acc=}\")"
   ]
  },
  {
   "cell_type": "code",
   "execution_count": 9,
   "id": "bd59c293",
   "metadata": {},
   "outputs": [
    {
     "name": "stdout",
     "output_type": "stream",
     "text": [
      "INFO:tensorflow:Assets written to: ASL01.model\\assets\n"
     ]
    }
   ],
   "source": [
    "model.save(\"ASL01.model\")"
   ]
  },
  {
   "cell_type": "code",
   "execution_count": 18,
   "id": "c1748133",
   "metadata": {},
   "outputs": [],
   "source": [
    "predictions = model.predict([Xm[45000:50000]])"
   ]
  },
  {
   "cell_type": "code",
   "execution_count": 22,
   "id": "37ef1981",
   "metadata": {},
   "outputs": [
    {
     "name": "stdout",
     "output_type": "stream",
     "text": [
      "[-13.846351   -10.725306    -5.955967    -4.5497355   -8.087611\n",
      "  -6.0316033    6.4827504    6.6336465   -6.2914944    3.2519815\n",
      "  -3.3955433   -8.320686    -6.290513    -3.1319869  -12.828208\n",
      "   1.0138714   -6.5197973    0.91730154  -3.2615216  -10.731537\n",
      "  -5.403344    -2.510316    -8.469812    -2.897812    -5.8702593\n",
      "  -9.225175    -2.2867138  -12.792107  ]\n",
      "7\n",
      "6\n"
     ]
    }
   ],
   "source": [
    "# a case where the model is wrong, note that the second most likely possibility is correct (second greatest)\n",
    "print(predictions[-1])\n",
    "print(np.argmax(predictions[-1]))\n",
    "print(y[49999])"
   ]
  },
  {
   "cell_type": "code",
   "execution_count": null,
   "id": "6c80ea20",
   "metadata": {},
   "outputs": [],
   "source": [
    "loaded = tf.keras.model.load(\"ASL01.model\")"
   ]
  }
 ],
 "metadata": {
  "kernelspec": {
   "display_name": "Python 3 (ipykernel)",
   "language": "python",
   "name": "python3"
  },
  "language_info": {
   "codemirror_mode": {
    "name": "ipython",
    "version": 3
   },
   "file_extension": ".py",
   "mimetype": "text/x-python",
   "name": "python",
   "nbconvert_exporter": "python",
   "pygments_lexer": "ipython3",
   "version": "3.10.5"
  }
 },
 "nbformat": 4,
 "nbformat_minor": 5
}
